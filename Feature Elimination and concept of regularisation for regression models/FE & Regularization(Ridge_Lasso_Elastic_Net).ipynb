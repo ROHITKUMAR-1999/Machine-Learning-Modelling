{
 "cells": [
  {
   "cell_type": "markdown",
   "metadata": {},
   "source": [
    "## <span style=\"color:blue\">What is Feature Reduction ? </span>\n",
    "\n",
    "\n",
    " \n",
    "- <span style=\"color:darkgreen\"> Machine Learning models especially the \"Classical Statistical\" models such as Linear and Logistic Regression do not perform well if we have multiple independent features in the dataset that provide similar information. This gives rise to a concept known as multicollinearity which leads to one of the biggest issues when dealing with data modeling– Overfitting. </span>\n",
    "\n",
    "\n",
    "- <span style=\"color:darkgreen\"> Multicollinearity is caused when we have multiple correlated features. There are various ways of finding such variables and getting rid of them. </span>\n",
    " \n",
    "<br> \n",
    " \n",
    " \n",
    " ## <span style=\"color:blue\">What is Feature Selection ? </span>\n",
    " \n",
    " \n",
    "- <span style=\"color:darkgreen\"> Among the various ways of Reducing Features is Feature Selection where we explicitly select the features we want to use in our model. </span>\n",
    " \n",
    " \n",
    "- <span style=\"color:darkgreen\"> Similarly, rather than selecting the features, we can also concentrate on the features we don't want to keep and methods that do so will also be considered as Feature Selection methods. </span>\n",
    " \n",
    " <br> \n",
    " \n",
    " \n",
    "## <span style=\"color:blue\"> What is Embedded Methods ? </span>\n",
    "\n",
    "- <span style=\"color:darkgreen\"> Embedded Methods are a range of Feature Selection methods where we drop variables based on there coefficient values. </span>\n",
    "\n",
    "\n",
    "- <span style=\"color:darkgreen\"> Embedded Methods use a concept called regularization where the coefficients are forced to be spread out more equally among all the features. When we have a lot of features, then the coefficients tend to inflate even of those features which are not useful or are correlated with other features. Regularization methods force such coefficients to shrink. </span>\n",
    "\n",
    "\n",
    "<br> \n",
    " \n",
    "## <span style=\"color:blue\"> What is Ridge, Lasso and Elastic Net ? </span>\n",
    "\n",
    "- <span style=\"color:darkgreen\"> Ridge, Lasso and Elastic are the various methods through which we can create Regression Models that perfrom different kinds of Regularization </span>\n",
    "\n",
    "\n",
    "- <span style=\"color:darkgreen\"> Each of these methods uses different kinds of \"regularization norms\" which based on there mathematical methodology have different effects on the coefficients of the features. </span>\n",
    "     - <span style=\"color:darkgreen\"> **Ridge** </span>: <span style=\"color:seagreen\"> Ridge uses a **L2 norm** where the coefficients are penalized for being too large than what they should be if multicollinearity wasn't there. L2 norm shrinks the coefficients but never makes them 0. </span>\n",
    "      \n",
    "     - <span style=\"color:darkgreen\"> **Lasso** </span>: <span style=\"color:seagreen\"> Lasso uses a **L1 norm** where the coefficients can penalized to such an extent that coefficients can become 0 </span>\n",
    "      \n",
    "     - <span style=\"color:darkgreen\"> **Elastic Net** </span>: <span style=\"color:seagreen\"> It performs a combination of  **L1 & L2 norm**.</span>\n",
    "     \n",
    "\n",
    "<br>\n",
    "\n",
    "\n",
    "## <span style=\"color:blue\"> What is alpha ? </span>\n",
    "\n",
    "- <span style=\"color:darkgreen\"> Alpha is the strength of the penalty imposed on the coefficients </span>\n",
    "- <span style=\"color:darkgreen\"> If we use L2 norm the penalty is equal to the square of the magnitude of coefficients</span>\n",
    "- <span style=\"color:darkgreen\"> In L1 norm, the penalty is equal to the absolute value of the magnitude of coefficients</span>\n",
    "- <span style=\"color:darkgreen\"> We control this by using the argument \"alpha = N\" in Python. </span>\n",
    "- <span style=\"color:darkgreen\"> Note: The formula for all these methods is such that if alpha is set at 0, it will become Ridge and if alpha is equal to 1 then it becomes Lasso. Therefore, for e.g. If we use Ridge with alpha=0 and Elastic with alpha=0, the output of both of them will be same as the Lasso will behave like Ridge only.</span>\n",
    "\n",
    "\n",
    "\n",
    "<br> \n",
    " \n",
    "## <span style=\"color:blue\"> How to use Regularization ? </span>\n",
    "\n",
    "- <span style=\"color:darkgreen\"> **Feature Reduction** : Regularization can be used during Regularized Regression where coefficients are generated. We can use Regularized Regression for finding the coefficients that are very less is  value (Ridge/Elastic) or have no value (Lasso) and drop such features thus performing Feature Reduction. These remaining features then can be used for creating a Machine Learning Model </span>\n",
    "\n",
    "\n",
    "- <span style=\"color:darkgreen\"> **Predictive Modeling** : We can also directly use Regularized Regression for predictive modeling where use we perform no feature deduction (or do perfrom using other methods) and input the features in the Regularized Regression model and get the predictions. In this method we take little to no stress regarding feature reduction as the problem of multicolinearity is taken care of by the regulatory norms.</span>"
   ]
  },
  {
   "cell_type": "markdown",
   "metadata": {},
   "source": [
    "# Data Preparation\n",
    "\n",
    "We will import and prepare a dataset and will use it for:\n",
    "<br>\n",
    "( i )  Feature Reduction using Regularization Methods\n",
    "<br>\n",
    "( ii )  Perform Predictive Modeling using Regularized Regression"
   ]
  },
  {
   "cell_type": "markdown",
   "metadata": {},
   "source": [
    "### Importing Basic Modules"
   ]
  },
  {
   "cell_type": "code",
   "execution_count": 1,
   "metadata": {},
   "outputs": [],
   "source": [
    "import numpy as np\n",
    "import pandas as pd\n",
    "import matplotlib.pyplot as plt\n",
    "import seaborn as sns\n",
    "%matplotlib inline\n",
    "from sklearn.model_selection import train_test_split \n",
    "from sklearn import metrics"
   ]
  },
  {
   "cell_type": "markdown",
   "metadata": {},
   "source": [
    "### Importing Data\n",
    "\n",
    "We use the \"Boston\" dataset that can be accessed using the sklearn package."
   ]
  },
  {
   "cell_type": "code",
   "execution_count": 2,
   "metadata": {},
   "outputs": [],
   "source": [
    "from sklearn.datasets import load_boston"
   ]
  },
  {
   "cell_type": "code",
   "execution_count": 3,
   "metadata": {},
   "outputs": [],
   "source": [
    "BostonData = load_boston()"
   ]
  },
  {
   "cell_type": "code",
   "execution_count": 4,
   "metadata": {},
   "outputs": [
    {
     "name": "stdout",
     "output_type": "stream",
     "text": [
      "dict_keys(['data', 'target', 'feature_names', 'DESCR', 'filename'])\n"
     ]
    }
   ],
   "source": [
    "# The data Boston is provided under different keys.\n",
    "\n",
    "print(BostonData.keys())"
   ]
  },
  {
   "cell_type": "code",
   "execution_count": 5,
   "metadata": {},
   "outputs": [
    {
     "name": "stdout",
     "output_type": "stream",
     "text": [
      "['CRIM' 'ZN' 'INDUS' 'CHAS' 'NOX' 'RM' 'AGE' 'DIS' 'RAD' 'TAX' 'PTRATIO'\n",
      " 'B' 'LSTAT']\n"
     ]
    }
   ],
   "source": [
    "# The feature names in the Boston Dataset\n",
    "\n",
    "print(BostonData.feature_names)"
   ]
  },
  {
   "cell_type": "code",
   "execution_count": 6,
   "metadata": {},
   "outputs": [
    {
     "name": "stdout",
     "output_type": "stream",
     "text": [
      ".. _boston_dataset:\n",
      "\n",
      "Boston house prices dataset\n",
      "---------------------------\n",
      "\n",
      "**Data Set Characteristics:**  \n",
      "\n",
      "    :Number of Instances: 506 \n",
      "\n",
      "    :Number of Attributes: 13 numeric/categorical predictive. Median Value (attribute 14) is usually the target.\n",
      "\n",
      "    :Attribute Information (in order):\n",
      "        - CRIM     per capita crime rate by town\n",
      "        - ZN       proportion of residential land zoned for lots over 25,000 sq.ft.\n",
      "        - INDUS    proportion of non-retail business acres per town\n",
      "        - CHAS     Charles River dummy variable (= 1 if tract bounds river; 0 otherwise)\n",
      "        - NOX      nitric oxides concentration (parts per 10 million)\n",
      "        - RM       average number of rooms per dwelling\n",
      "        - AGE      proportion of owner-occupied units built prior to 1940\n",
      "        - DIS      weighted distances to five Boston employment centres\n",
      "        - RAD      index of accessibility to radial highways\n",
      "        - TAX      full-value property-tax rate per $10,000\n",
      "        - PTRATIO  pupil-teacher ratio by town\n",
      "        - B        1000(Bk - 0.63)^2 where Bk is the proportion of blacks by town\n",
      "        - LSTAT    % lower status of the population\n",
      "        - MEDV     Median value of owner-occupied homes in $1000's\n",
      "\n",
      "    :Missing Attribute Values: None\n",
      "\n",
      "    :Creator: Harrison, D. and Rubinfeld, D.L.\n",
      "\n",
      "This is a copy of UCI ML housing dataset.\n",
      "https://archive.ics.uci.edu/ml/machine-learning-databases/housing/\n",
      "\n",
      "\n",
      "This dataset was taken from the StatLib library which is maintained at Carnegie Mellon University.\n",
      "\n",
      "The Boston house-price data of Harrison, D. and Rubinfeld, D.L. 'Hedonic\n",
      "prices and the demand for clean air', J. Environ. Economics & Management,\n",
      "vol.5, 81-102, 1978.   Used in Belsley, Kuh & Welsch, 'Regression diagnostics\n",
      "...', Wiley, 1980.   N.B. Various transformations are used in the table on\n",
      "pages 244-261 of the latter.\n",
      "\n",
      "The Boston house-price data has been used in many machine learning papers that address regression\n",
      "problems.   \n",
      "     \n",
      ".. topic:: References\n",
      "\n",
      "   - Belsley, Kuh & Welsch, 'Regression diagnostics: Identifying Influential Data and Sources of Collinearity', Wiley, 1980. 244-261.\n",
      "   - Quinlan,R. (1993). Combining Instance-Based and Model-Based Learning. In Proceedings on the Tenth International Conference of Machine Learning, 236-243, University of Massachusetts, Amherst. Morgan Kaufmann.\n",
      "\n"
     ]
    }
   ],
   "source": [
    "# Description of the Boston Dataset\n",
    "\n",
    "print(BostonData.DESCR)"
   ]
  },
  {
   "cell_type": "code",
   "execution_count": 7,
   "metadata": {},
   "outputs": [
    {
     "data": {
      "text/html": [
       "<div>\n",
       "<style scoped>\n",
       "    .dataframe tbody tr th:only-of-type {\n",
       "        vertical-align: middle;\n",
       "    }\n",
       "\n",
       "    .dataframe tbody tr th {\n",
       "        vertical-align: top;\n",
       "    }\n",
       "\n",
       "    .dataframe thead th {\n",
       "        text-align: right;\n",
       "    }\n",
       "</style>\n",
       "<table border=\"1\" class=\"dataframe\">\n",
       "  <thead>\n",
       "    <tr style=\"text-align: right;\">\n",
       "      <th></th>\n",
       "      <th>0</th>\n",
       "      <th>1</th>\n",
       "      <th>2</th>\n",
       "      <th>3</th>\n",
       "      <th>4</th>\n",
       "      <th>5</th>\n",
       "      <th>6</th>\n",
       "      <th>7</th>\n",
       "      <th>8</th>\n",
       "      <th>9</th>\n",
       "      <th>10</th>\n",
       "      <th>11</th>\n",
       "      <th>12</th>\n",
       "    </tr>\n",
       "  </thead>\n",
       "  <tbody>\n",
       "    <tr>\n",
       "      <td>0</td>\n",
       "      <td>0.00632</td>\n",
       "      <td>18.0</td>\n",
       "      <td>2.31</td>\n",
       "      <td>0.0</td>\n",
       "      <td>0.538</td>\n",
       "      <td>6.575</td>\n",
       "      <td>65.2</td>\n",
       "      <td>4.0900</td>\n",
       "      <td>1.0</td>\n",
       "      <td>296.0</td>\n",
       "      <td>15.3</td>\n",
       "      <td>396.90</td>\n",
       "      <td>4.98</td>\n",
       "    </tr>\n",
       "    <tr>\n",
       "      <td>1</td>\n",
       "      <td>0.02731</td>\n",
       "      <td>0.0</td>\n",
       "      <td>7.07</td>\n",
       "      <td>0.0</td>\n",
       "      <td>0.469</td>\n",
       "      <td>6.421</td>\n",
       "      <td>78.9</td>\n",
       "      <td>4.9671</td>\n",
       "      <td>2.0</td>\n",
       "      <td>242.0</td>\n",
       "      <td>17.8</td>\n",
       "      <td>396.90</td>\n",
       "      <td>9.14</td>\n",
       "    </tr>\n",
       "    <tr>\n",
       "      <td>2</td>\n",
       "      <td>0.02729</td>\n",
       "      <td>0.0</td>\n",
       "      <td>7.07</td>\n",
       "      <td>0.0</td>\n",
       "      <td>0.469</td>\n",
       "      <td>7.185</td>\n",
       "      <td>61.1</td>\n",
       "      <td>4.9671</td>\n",
       "      <td>2.0</td>\n",
       "      <td>242.0</td>\n",
       "      <td>17.8</td>\n",
       "      <td>392.83</td>\n",
       "      <td>4.03</td>\n",
       "    </tr>\n",
       "    <tr>\n",
       "      <td>3</td>\n",
       "      <td>0.03237</td>\n",
       "      <td>0.0</td>\n",
       "      <td>2.18</td>\n",
       "      <td>0.0</td>\n",
       "      <td>0.458</td>\n",
       "      <td>6.998</td>\n",
       "      <td>45.8</td>\n",
       "      <td>6.0622</td>\n",
       "      <td>3.0</td>\n",
       "      <td>222.0</td>\n",
       "      <td>18.7</td>\n",
       "      <td>394.63</td>\n",
       "      <td>2.94</td>\n",
       "    </tr>\n",
       "    <tr>\n",
       "      <td>4</td>\n",
       "      <td>0.06905</td>\n",
       "      <td>0.0</td>\n",
       "      <td>2.18</td>\n",
       "      <td>0.0</td>\n",
       "      <td>0.458</td>\n",
       "      <td>7.147</td>\n",
       "      <td>54.2</td>\n",
       "      <td>6.0622</td>\n",
       "      <td>3.0</td>\n",
       "      <td>222.0</td>\n",
       "      <td>18.7</td>\n",
       "      <td>396.90</td>\n",
       "      <td>5.33</td>\n",
       "    </tr>\n",
       "  </tbody>\n",
       "</table>\n",
       "</div>"
      ],
      "text/plain": [
       "         0     1     2    3      4      5     6       7    8      9    10  \\\n",
       "0  0.00632  18.0  2.31  0.0  0.538  6.575  65.2  4.0900  1.0  296.0  15.3   \n",
       "1  0.02731   0.0  7.07  0.0  0.469  6.421  78.9  4.9671  2.0  242.0  17.8   \n",
       "2  0.02729   0.0  7.07  0.0  0.469  7.185  61.1  4.9671  2.0  242.0  17.8   \n",
       "3  0.03237   0.0  2.18  0.0  0.458  6.998  45.8  6.0622  3.0  222.0  18.7   \n",
       "4  0.06905   0.0  2.18  0.0  0.458  7.147  54.2  6.0622  3.0  222.0  18.7   \n",
       "\n",
       "       11    12  \n",
       "0  396.90  4.98  \n",
       "1  396.90  9.14  \n",
       "2  392.83  4.03  \n",
       "3  394.63  2.94  \n",
       "4  396.90  5.33  "
      ]
     },
     "execution_count": 7,
     "metadata": {},
     "output_type": "execute_result"
    }
   ],
   "source": [
    "# Saving the Boston dataset's data as Pandas DataFrame from the data key (that has all the independent variables)\n",
    "\n",
    "BosData = pd.DataFrame(BostonData.data)\n",
    "BosData.head()"
   ]
  },
  {
   "cell_type": "code",
   "execution_count": 8,
   "metadata": {},
   "outputs": [
    {
     "data": {
      "text/html": [
       "<div>\n",
       "<style scoped>\n",
       "    .dataframe tbody tr th:only-of-type {\n",
       "        vertical-align: middle;\n",
       "    }\n",
       "\n",
       "    .dataframe tbody tr th {\n",
       "        vertical-align: top;\n",
       "    }\n",
       "\n",
       "    .dataframe thead th {\n",
       "        text-align: right;\n",
       "    }\n",
       "</style>\n",
       "<table border=\"1\" class=\"dataframe\">\n",
       "  <thead>\n",
       "    <tr style=\"text-align: right;\">\n",
       "      <th></th>\n",
       "      <th>CRIM</th>\n",
       "      <th>ZN</th>\n",
       "      <th>INDUS</th>\n",
       "      <th>CHAS</th>\n",
       "      <th>NOX</th>\n",
       "      <th>RM</th>\n",
       "      <th>AGE</th>\n",
       "      <th>DIS</th>\n",
       "      <th>RAD</th>\n",
       "      <th>TAX</th>\n",
       "      <th>PTRATIO</th>\n",
       "      <th>B</th>\n",
       "      <th>LSTAT</th>\n",
       "    </tr>\n",
       "  </thead>\n",
       "  <tbody>\n",
       "    <tr>\n",
       "      <td>0</td>\n",
       "      <td>0.00632</td>\n",
       "      <td>18.0</td>\n",
       "      <td>2.31</td>\n",
       "      <td>0.0</td>\n",
       "      <td>0.538</td>\n",
       "      <td>6.575</td>\n",
       "      <td>65.2</td>\n",
       "      <td>4.0900</td>\n",
       "      <td>1.0</td>\n",
       "      <td>296.0</td>\n",
       "      <td>15.3</td>\n",
       "      <td>396.90</td>\n",
       "      <td>4.98</td>\n",
       "    </tr>\n",
       "    <tr>\n",
       "      <td>1</td>\n",
       "      <td>0.02731</td>\n",
       "      <td>0.0</td>\n",
       "      <td>7.07</td>\n",
       "      <td>0.0</td>\n",
       "      <td>0.469</td>\n",
       "      <td>6.421</td>\n",
       "      <td>78.9</td>\n",
       "      <td>4.9671</td>\n",
       "      <td>2.0</td>\n",
       "      <td>242.0</td>\n",
       "      <td>17.8</td>\n",
       "      <td>396.90</td>\n",
       "      <td>9.14</td>\n",
       "    </tr>\n",
       "    <tr>\n",
       "      <td>2</td>\n",
       "      <td>0.02729</td>\n",
       "      <td>0.0</td>\n",
       "      <td>7.07</td>\n",
       "      <td>0.0</td>\n",
       "      <td>0.469</td>\n",
       "      <td>7.185</td>\n",
       "      <td>61.1</td>\n",
       "      <td>4.9671</td>\n",
       "      <td>2.0</td>\n",
       "      <td>242.0</td>\n",
       "      <td>17.8</td>\n",
       "      <td>392.83</td>\n",
       "      <td>4.03</td>\n",
       "    </tr>\n",
       "    <tr>\n",
       "      <td>3</td>\n",
       "      <td>0.03237</td>\n",
       "      <td>0.0</td>\n",
       "      <td>2.18</td>\n",
       "      <td>0.0</td>\n",
       "      <td>0.458</td>\n",
       "      <td>6.998</td>\n",
       "      <td>45.8</td>\n",
       "      <td>6.0622</td>\n",
       "      <td>3.0</td>\n",
       "      <td>222.0</td>\n",
       "      <td>18.7</td>\n",
       "      <td>394.63</td>\n",
       "      <td>2.94</td>\n",
       "    </tr>\n",
       "    <tr>\n",
       "      <td>4</td>\n",
       "      <td>0.06905</td>\n",
       "      <td>0.0</td>\n",
       "      <td>2.18</td>\n",
       "      <td>0.0</td>\n",
       "      <td>0.458</td>\n",
       "      <td>7.147</td>\n",
       "      <td>54.2</td>\n",
       "      <td>6.0622</td>\n",
       "      <td>3.0</td>\n",
       "      <td>222.0</td>\n",
       "      <td>18.7</td>\n",
       "      <td>396.90</td>\n",
       "      <td>5.33</td>\n",
       "    </tr>\n",
       "  </tbody>\n",
       "</table>\n",
       "</div>"
      ],
      "text/plain": [
       "      CRIM    ZN  INDUS  CHAS    NOX     RM   AGE     DIS  RAD    TAX  \\\n",
       "0  0.00632  18.0   2.31   0.0  0.538  6.575  65.2  4.0900  1.0  296.0   \n",
       "1  0.02731   0.0   7.07   0.0  0.469  6.421  78.9  4.9671  2.0  242.0   \n",
       "2  0.02729   0.0   7.07   0.0  0.469  7.185  61.1  4.9671  2.0  242.0   \n",
       "3  0.03237   0.0   2.18   0.0  0.458  6.998  45.8  6.0622  3.0  222.0   \n",
       "4  0.06905   0.0   2.18   0.0  0.458  7.147  54.2  6.0622  3.0  222.0   \n",
       "\n",
       "   PTRATIO       B  LSTAT  \n",
       "0     15.3  396.90   4.98  \n",
       "1     17.8  396.90   9.14  \n",
       "2     17.8  392.83   4.03  \n",
       "3     18.7  394.63   2.94  \n",
       "4     18.7  396.90   5.33  "
      ]
     },
     "execution_count": 8,
     "metadata": {},
     "output_type": "execute_result"
    }
   ],
   "source": [
    "# Adding the feature names by using the feature_names key\n",
    "\n",
    "BosData.columns = BostonData.feature_names\n",
    "BosData.head()"
   ]
  },
  {
   "cell_type": "code",
   "execution_count": 9,
   "metadata": {},
   "outputs": [
    {
     "data": {
      "text/html": [
       "<div>\n",
       "<style scoped>\n",
       "    .dataframe tbody tr th:only-of-type {\n",
       "        vertical-align: middle;\n",
       "    }\n",
       "\n",
       "    .dataframe tbody tr th {\n",
       "        vertical-align: top;\n",
       "    }\n",
       "\n",
       "    .dataframe thead th {\n",
       "        text-align: right;\n",
       "    }\n",
       "</style>\n",
       "<table border=\"1\" class=\"dataframe\">\n",
       "  <thead>\n",
       "    <tr style=\"text-align: right;\">\n",
       "      <th></th>\n",
       "      <th>CRIM</th>\n",
       "      <th>ZN</th>\n",
       "      <th>INDUS</th>\n",
       "      <th>CHAS</th>\n",
       "      <th>NOX</th>\n",
       "      <th>RM</th>\n",
       "      <th>AGE</th>\n",
       "      <th>DIS</th>\n",
       "      <th>RAD</th>\n",
       "      <th>TAX</th>\n",
       "      <th>PTRATIO</th>\n",
       "      <th>B</th>\n",
       "      <th>LSTAT</th>\n",
       "      <th>Price</th>\n",
       "    </tr>\n",
       "  </thead>\n",
       "  <tbody>\n",
       "    <tr>\n",
       "      <td>0</td>\n",
       "      <td>0.00632</td>\n",
       "      <td>18.0</td>\n",
       "      <td>2.31</td>\n",
       "      <td>0.0</td>\n",
       "      <td>0.538</td>\n",
       "      <td>6.575</td>\n",
       "      <td>65.2</td>\n",
       "      <td>4.0900</td>\n",
       "      <td>1.0</td>\n",
       "      <td>296.0</td>\n",
       "      <td>15.3</td>\n",
       "      <td>396.90</td>\n",
       "      <td>4.98</td>\n",
       "      <td>24.0</td>\n",
       "    </tr>\n",
       "    <tr>\n",
       "      <td>1</td>\n",
       "      <td>0.02731</td>\n",
       "      <td>0.0</td>\n",
       "      <td>7.07</td>\n",
       "      <td>0.0</td>\n",
       "      <td>0.469</td>\n",
       "      <td>6.421</td>\n",
       "      <td>78.9</td>\n",
       "      <td>4.9671</td>\n",
       "      <td>2.0</td>\n",
       "      <td>242.0</td>\n",
       "      <td>17.8</td>\n",
       "      <td>396.90</td>\n",
       "      <td>9.14</td>\n",
       "      <td>21.6</td>\n",
       "    </tr>\n",
       "    <tr>\n",
       "      <td>2</td>\n",
       "      <td>0.02729</td>\n",
       "      <td>0.0</td>\n",
       "      <td>7.07</td>\n",
       "      <td>0.0</td>\n",
       "      <td>0.469</td>\n",
       "      <td>7.185</td>\n",
       "      <td>61.1</td>\n",
       "      <td>4.9671</td>\n",
       "      <td>2.0</td>\n",
       "      <td>242.0</td>\n",
       "      <td>17.8</td>\n",
       "      <td>392.83</td>\n",
       "      <td>4.03</td>\n",
       "      <td>34.7</td>\n",
       "    </tr>\n",
       "    <tr>\n",
       "      <td>3</td>\n",
       "      <td>0.03237</td>\n",
       "      <td>0.0</td>\n",
       "      <td>2.18</td>\n",
       "      <td>0.0</td>\n",
       "      <td>0.458</td>\n",
       "      <td>6.998</td>\n",
       "      <td>45.8</td>\n",
       "      <td>6.0622</td>\n",
       "      <td>3.0</td>\n",
       "      <td>222.0</td>\n",
       "      <td>18.7</td>\n",
       "      <td>394.63</td>\n",
       "      <td>2.94</td>\n",
       "      <td>33.4</td>\n",
       "    </tr>\n",
       "    <tr>\n",
       "      <td>4</td>\n",
       "      <td>0.06905</td>\n",
       "      <td>0.0</td>\n",
       "      <td>2.18</td>\n",
       "      <td>0.0</td>\n",
       "      <td>0.458</td>\n",
       "      <td>7.147</td>\n",
       "      <td>54.2</td>\n",
       "      <td>6.0622</td>\n",
       "      <td>3.0</td>\n",
       "      <td>222.0</td>\n",
       "      <td>18.7</td>\n",
       "      <td>396.90</td>\n",
       "      <td>5.33</td>\n",
       "      <td>36.2</td>\n",
       "    </tr>\n",
       "  </tbody>\n",
       "</table>\n",
       "</div>"
      ],
      "text/plain": [
       "      CRIM    ZN  INDUS  CHAS    NOX     RM   AGE     DIS  RAD    TAX  \\\n",
       "0  0.00632  18.0   2.31   0.0  0.538  6.575  65.2  4.0900  1.0  296.0   \n",
       "1  0.02731   0.0   7.07   0.0  0.469  6.421  78.9  4.9671  2.0  242.0   \n",
       "2  0.02729   0.0   7.07   0.0  0.469  7.185  61.1  4.9671  2.0  242.0   \n",
       "3  0.03237   0.0   2.18   0.0  0.458  6.998  45.8  6.0622  3.0  222.0   \n",
       "4  0.06905   0.0   2.18   0.0  0.458  7.147  54.2  6.0622  3.0  222.0   \n",
       "\n",
       "   PTRATIO       B  LSTAT  Price  \n",
       "0     15.3  396.90   4.98   24.0  \n",
       "1     17.8  396.90   9.14   21.6  \n",
       "2     17.8  392.83   4.03   34.7  \n",
       "3     18.7  394.63   2.94   33.4  \n",
       "4     18.7  396.90   5.33   36.2  "
      ]
     },
     "execution_count": 9,
     "metadata": {},
     "output_type": "execute_result"
    }
   ],
   "source": [
    "# Adding the dependent (Y) variable available in the target key\n",
    "\n",
    "BosData['Price']=BostonData.target\n",
    "BosData.head()"
   ]
  },
  {
   "cell_type": "markdown",
   "metadata": {},
   "source": [
    "### Performing Basic Checks\n",
    "\n",
    "We look for the missing values in the dataset and the distribution of the Y variable"
   ]
  },
  {
   "cell_type": "code",
   "execution_count": 10,
   "metadata": {},
   "outputs": [
    {
     "data": {
      "text/plain": [
       "CRIM       0\n",
       "ZN         0\n",
       "INDUS      0\n",
       "CHAS       0\n",
       "NOX        0\n",
       "RM         0\n",
       "AGE        0\n",
       "DIS        0\n",
       "RAD        0\n",
       "TAX        0\n",
       "PTRATIO    0\n",
       "B          0\n",
       "LSTAT      0\n",
       "Price      0\n",
       "dtype: int64"
      ]
     },
     "execution_count": 10,
     "metadata": {},
     "output_type": "execute_result"
    }
   ],
   "source": [
    "# No missing values in the dataset\n",
    "\n",
    "BosData.isnull().sum()"
   ]
  },
  {
   "cell_type": "code",
   "execution_count": 11,
   "metadata": {},
   "outputs": [
    {
     "data": {
      "text/plain": [
       "<matplotlib.axes._subplots.AxesSubplot at 0x2aa2dfe1848>"
      ]
     },
     "execution_count": 11,
     "metadata": {},
     "output_type": "execute_result"
    },
    {
     "data": {
      "image/png": "[encoded data removed]",
      "text/plain": [
       "<Figure size 432x288 with 1 Axes>"
      ]
     },
     "metadata": {
      "needs_background": "light"
     },
     "output_type": "display_data"
    }
   ],
   "source": [
    "# Distribution of the Y variable seems close to normal\n",
    "\n",
    "sns.distplot(BosData.Price,bins=200)"
   ]
  },
  {
   "cell_type": "code",
   "execution_count": 12,
   "metadata": {},
   "outputs": [
    {
     "data": {
      "text/plain": [
       "1.1080984082549072"
      ]
     },
     "execution_count": 12,
     "metadata": {},
     "output_type": "execute_result"
    }
   ],
   "source": [
    "# Measuring the skewness in the Y variable's distribution\n",
    "\n",
    "BosData['Price'].skew()"
   ]
  },
  {
   "cell_type": "code",
   "execution_count": 13,
   "metadata": {},
   "outputs": [
    {
     "data": {
      "text/plain": [
       "1.495196944165818"
      ]
     },
     "execution_count": 13,
     "metadata": {},
     "output_type": "execute_result"
    }
   ],
   "source": [
    "# Measuring the kurtosis in the Y variable's distribution\n",
    "\n",
    "BosData['Price'].kurtosis()"
   ]
  },
  {
   "cell_type": "code",
   "execution_count": 14,
   "metadata": {},
   "outputs": [],
   "source": [
    "# Performing Log Transformation to check if it makes the distribution more normal \n",
    "BosData['ln_Price'] = np.log(BosData['Price'])"
   ]
  },
  {
   "cell_type": "code",
   "execution_count": 15,
   "metadata": {},
   "outputs": [
    {
     "data": {
      "text/plain": [
       "<matplotlib.axes._subplots.AxesSubplot at 0x2aa2e5e4388>"
      ]
     },
     "execution_count": 15,
     "metadata": {},
     "output_type": "execute_result"
    },
    {
     "data": {
      "image/png": "[encoded data removed]",
      "text/plain": [
       "<Figure size 432x288 with 1 Axes>"
      ]
     },
     "metadata": {
      "needs_background": "light"
     },
     "output_type": "display_data"
    }
   ],
   "source": [
    "# Distribution of the log Y variable also seems close to normal\n",
    "\n",
    "sns.distplot(BosData.ln_Price,bins=200)"
   ]
  },
  {
   "cell_type": "code",
   "execution_count": 16,
   "metadata": {},
   "outputs": [
    {
     "data": {
      "text/plain": [
       "-0.33032129530987864"
      ]
     },
     "execution_count": 16,
     "metadata": {},
     "output_type": "execute_result"
    }
   ],
   "source": [
    "# Measuring the skewness in the log Y variable's distribution\n",
    "# The skewness in the log Y is less than Y (closer to 0) therefore we will proceed with log Y\n",
    "\n",
    "BosData['ln_Price'].skew()"
   ]
  },
  {
   "cell_type": "code",
   "execution_count": 17,
   "metadata": {},
   "outputs": [
    {
     "data": {
      "text/plain": [
       "Index(['CRIM', 'ZN', 'INDUS', 'CHAS', 'NOX', 'RM', 'AGE', 'DIS', 'RAD', 'TAX',\n",
       "       'PTRATIO', 'B', 'LSTAT', 'Price', 'ln_Price'],\n",
       "      dtype='object')"
      ]
     },
     "execution_count": 17,
     "metadata": {},
     "output_type": "execute_result"
    }
   ],
   "source": [
    "BosData.columns"
   ]
  },
  {
   "cell_type": "code",
   "execution_count": 18,
   "metadata": {},
   "outputs": [
    {
     "data": {
      "image/png": "[encoded data removed]",
      "text/plain": [
       "<Figure size 432x288 with 1 Axes>"
      ]
     },
     "metadata": {
      "needs_background": "light"
     },
     "output_type": "display_data"
    },
    {
     "data": {
      "text/plain": [
       "<Figure size 144x72 with 0 Axes>"
      ]
     },
     "metadata": {},
     "output_type": "display_data"
    },
    {
     "data": {
      "image/png": "[encoded data removed]",
      "text/plain": [
       "<Figure size 432x288 with 1 Axes>"
      ]
     },
     "metadata": {
      "needs_background": "light"
     },
     "output_type": "display_data"
    },
    {
     "data": {
      "text/plain": [
       "<Figure size 144x72 with 0 Axes>"
      ]
     },
     "metadata": {},
     "output_type": "display_data"
    },
    {
     "data": {
      "image/png": "[encoded data removed]",
      "text/plain": [
       "<Figure size 432x288 with 1 Axes>"
      ]
     },
     "metadata": {
      "needs_background": "light"
     },
     "output_type": "display_data"
    },
    {
     "data": {
      "text/plain": [
       "<Figure size 144x72 with 0 Axes>"
      ]
     },
     "metadata": {},
     "output_type": "display_data"
    },
    {
     "data": {
      "image/png": "[encoded data removed]",
      "text/plain": [
       "<Figure size 432x288 with 1 Axes>"
      ]
     },
     "metadata": {
      "needs_background": "light"
     },
     "output_type": "display_data"
    },
    {
     "data": {
      "text/plain": [
       "<Figure size 144x72 with 0 Axes>"
      ]
     },
     "metadata": {},
     "output_type": "display_data"
    },
    {
     "data": {
      "image/png": "[encoded data removed]",
      "text/plain": [
       "<Figure size 432x288 with 1 Axes>"
      ]
     },
     "metadata": {
      "needs_background": "light"
     },
     "output_type": "display_data"
    },
    {
     "data": {
      "text/plain": [
       "<Figure size 144x72 with 0 Axes>"
      ]
     },
     "metadata": {},
     "output_type": "display_data"
    },
    {
     "data": {
      "image/png": "[encoded data removed]",
      "text/plain": [
       "<Figure size 432x288 with 1 Axes>"
      ]
     },
     "metadata": {
      "needs_background": "light"
     },
     "output_type": "display_data"
    },
    {
     "data": {
      "text/plain": [
       "<Figure size 144x72 with 0 Axes>"
      ]
     },
     "metadata": {},
     "output_type": "display_data"
    },
    {
     "data": {
      "image/png": "[encoded data removed]",
      "text/plain": [
       "<Figure size 432x288 with 1 Axes>"
      ]
     },
     "metadata": {
      "needs_background": "light"
     },
     "output_type": "display_data"
    },
    {
     "data": {
      "text/plain": [
       "<Figure size 144x72 with 0 Axes>"
      ]
     },
     "metadata": {},
     "output_type": "display_data"
    },
    {
     "data": {
      "image/png": "[encoded data removed]",
      "text/plain": [
       "<Figure size 432x288 with 1 Axes>"
      ]
     },
     "metadata": {
      "needs_background": "light"
     },
     "output_type": "display_data"
    },
    {
     "data": {
      "text/plain": [
       "<Figure size 144x72 with 0 Axes>"
      ]
     },
     "metadata": {},
     "output_type": "display_data"
    },
    {
     "data": {
      "image/png": "[encoded data removed]",
      "text/plain": [
       "<Figure size 432x288 with 1 Axes>"
      ]
     },
     "metadata": {
      "needs_background": "light"
     },
     "output_type": "display_data"
    },
    {
     "data": {
      "text/plain": [
       "<Figure size 144x72 with 0 Axes>"
      ]
     },
     "metadata": {},
     "output_type": "display_data"
    },
    {
     "data": {
      "image/png": "[encoded data removed]",
      "text/plain": [
       "<Figure size 432x288 with 1 Axes>"
      ]
     },
     "metadata": {
      "needs_background": "light"
     },
     "output_type": "display_data"
    },
    {
     "data": {
      "text/plain": [
       "<Figure size 144x72 with 0 Axes>"
      ]
     },
     "metadata": {},
     "output_type": "display_data"
    },
    {
     "data": {
      "image/png": "[encoded data removed]",
      "text/plain": [
       "<Figure size 432x288 with 1 Axes>"
      ]
     },
     "metadata": {
      "needs_background": "light"
     },
     "output_type": "display_data"
    },
    {
     "data": {
      "text/plain": [
       "<Figure size 144x72 with 0 Axes>"
      ]
     },
     "metadata": {},
     "output_type": "display_data"
    },
    {
     "data": {
      "image/png": "[encoded data removed]",
      "text/plain": [
       "<Figure size 432x288 with 1 Axes>"
      ]
     },
     "metadata": {
      "needs_background": "light"
     },
     "output_type": "display_data"
    },
    {
     "data": {
      "text/plain": [
       "<Figure size 144x72 with 0 Axes>"
      ]
     },
     "metadata": {},
     "output_type": "display_data"
    },
    {
     "data": {
      "image/png": "[encoded data removed]",
      "text/plain": [
       "<Figure size 432x288 with 1 Axes>"
      ]
     },
     "metadata": {
      "needs_background": "light"
     },
     "output_type": "display_data"
    },
    {
     "data": {
      "text/plain": [
       "<Figure size 144x72 with 0 Axes>"
      ]
     },
     "metadata": {},
     "output_type": "display_data"
    }
   ],
   "source": [
    "# Checking for outliers using Boxplots \n",
    "# No Outliers were detected in any of the features\n",
    "\n",
    "plt.boxplot(BosData.CRIM)\n",
    "plt.title(\"CRIM\")\n",
    "plt.figure(figsize=(2,1))\n",
    "plt.show()\n",
    "\n",
    "plt.boxplot(BosData.ZN)\n",
    "plt.title(\"ZN\")\n",
    "plt.figure(figsize=(2,1))\n",
    "plt.show()\n",
    "\n",
    "plt.boxplot(BosData.CHAS)\n",
    "plt.title(\"CHAS\")\n",
    "plt.figure(figsize=(2,1))\n",
    "plt.show()\n",
    "\n",
    "plt.boxplot(BosData.NOX)\n",
    "plt.title(\"NOX\")\n",
    "plt.figure(figsize=(2,1))\n",
    "plt.show()\n",
    "\n",
    "plt.boxplot(BosData.RM)\n",
    "plt.title(\"RM\")\n",
    "plt.figure(figsize=(2,1))\n",
    "plt.show()\n",
    "\n",
    "plt.boxplot(BosData.AGE)\n",
    "plt.title(\"AGE\")\n",
    "plt.figure(figsize=(2,1))\n",
    "plt.show()\n",
    "\n",
    "plt.boxplot(BosData.DIS)\n",
    "plt.title(\"DIS\")\n",
    "plt.figure(figsize=(2,1))\n",
    "plt.show()\n",
    "\n",
    "plt.boxplot(BosData.RAD)\n",
    "plt.title(\"RAD\")\n",
    "plt.figure(figsize=(2,1))\n",
    "plt.show()\n",
    "\n",
    "plt.boxplot(BosData.TAX)\n",
    "plt.title(\"TAX\")\n",
    "plt.figure(figsize=(2,1))\n",
    "plt.show()\n",
    "\n",
    "plt.boxplot(BosData.PTRATIO)\n",
    "plt.title(\"PTRATIO\")\n",
    "plt.figure(figsize=(2,1))\n",
    "plt.show()\n",
    "\n",
    "plt.boxplot(BosData.B)\n",
    "plt.title(\"B\")\n",
    "plt.figure(figsize=(2,1))\n",
    "plt.show()\n",
    "\n",
    "plt.boxplot(BosData.LSTAT)\n",
    "plt.title(\"LSTAT\")\n",
    "plt.figure(figsize=(2,1))\n",
    "plt.show()\n",
    "\n",
    "plt.boxplot(BosData.Price)\n",
    "plt.title(\"Price\")\n",
    "plt.figure(figsize=(2,1))\n",
    "plt.show()"
   ]
  },
  {
   "cell_type": "code",
   "execution_count": 19,
   "metadata": {},
   "outputs": [],
   "source": [
    "# Creating Train and Test Dataset\n",
    "X = BosData[['CRIM', 'ZN', 'INDUS', 'CHAS', 'NOX', 'RM', 'AGE', 'DIS', 'RAD', 'TAX','PTRATIO', 'B', 'LSTAT']]\n",
    "Y = BosData['ln_Price']\n",
    "X_train,X_test,Y_train,Y_test=train_test_split(X,Y,test_size=0.3,random_state=123)"
   ]
  },
  {
   "cell_type": "markdown",
   "metadata": {},
   "source": [
    "# Using Regularization for performing Feature Reduction"
   ]
  },
  {
   "cell_type": "code",
   "execution_count": 20,
   "metadata": {},
   "outputs": [],
   "source": [
    "from sklearn import linear_model\n",
    "from sklearn.model_selection import GridSearchCV"
   ]
  },
  {
   "cell_type": "markdown",
   "metadata": {
    "collapsed": true
   },
   "source": [
    "### Using Linear Regression to come up with the Coefficients"
   ]
  },
  {
   "cell_type": "code",
   "execution_count": 21,
   "metadata": {},
   "outputs": [],
   "source": [
    "# Initializing Model\n",
    "\n",
    "linreg_model = linear_model.LinearRegression()\n",
    "\n",
    "#dir(linreg_model)\n",
    "#linear_model.LinearRegression?"
   ]
  },
  {
   "cell_type": "code",
   "execution_count": 22,
   "metadata": {
    "scrolled": true
   },
   "outputs": [
    {
     "name": "stdout",
     "output_type": "stream",
     "text": [
      "0.7184549221719685\n",
      "0.12567961518799237\n",
      "0.15228894578869476\n"
     ]
    }
   ],
   "source": [
    "# Fitting Model\n",
    "\n",
    "ln_model=linreg_model.fit(X_train,Y_train)\n",
    "\n",
    "y_train_pred=ln_model.predict(X_train)\n",
    "y_pred=ln_model.predict(X_test)\n",
    "print(metrics.r2_score(Y_test,y_pred))\n",
    "\n",
    "print(metrics.mean_absolute_error(Y_train,y_train_pred))\n",
    "print(metrics.mean_absolute_error(Y_test,y_pred))"
   ]
  },
  {
   "cell_type": "code",
   "execution_count": 23,
   "metadata": {},
   "outputs": [
    {
     "data": {
      "text/html": [
       "<div>\n",
       "<style scoped>\n",
       "    .dataframe tbody tr th:only-of-type {\n",
       "        vertical-align: middle;\n",
       "    }\n",
       "\n",
       "    .dataframe tbody tr th {\n",
       "        vertical-align: top;\n",
       "    }\n",
       "\n",
       "    .dataframe thead th {\n",
       "        text-align: right;\n",
       "    }\n",
       "</style>\n",
       "<table border=\"1\" class=\"dataframe\">\n",
       "  <thead>\n",
       "    <tr style=\"text-align: right;\">\n",
       "      <th></th>\n",
       "      <th>Non_Reg_Coefficient</th>\n",
       "    </tr>\n",
       "  </thead>\n",
       "  <tbody>\n",
       "    <tr>\n",
       "      <td>CRIM</td>\n",
       "      <td>-0.010277</td>\n",
       "    </tr>\n",
       "    <tr>\n",
       "      <td>ZN</td>\n",
       "      <td>0.000792</td>\n",
       "    </tr>\n",
       "    <tr>\n",
       "      <td>INDUS</td>\n",
       "      <td>0.004594</td>\n",
       "    </tr>\n",
       "    <tr>\n",
       "      <td>CHAS</td>\n",
       "      <td>0.035459</td>\n",
       "    </tr>\n",
       "    <tr>\n",
       "      <td>NOX</td>\n",
       "      <td>-0.672618</td>\n",
       "    </tr>\n",
       "    <tr>\n",
       "      <td>RM</td>\n",
       "      <td>0.130099</td>\n",
       "    </tr>\n",
       "    <tr>\n",
       "      <td>AGE</td>\n",
       "      <td>0.000030</td>\n",
       "    </tr>\n",
       "    <tr>\n",
       "      <td>DIS</td>\n",
       "      <td>-0.042281</td>\n",
       "    </tr>\n",
       "    <tr>\n",
       "      <td>RAD</td>\n",
       "      <td>0.014007</td>\n",
       "    </tr>\n",
       "    <tr>\n",
       "      <td>TAX</td>\n",
       "      <td>-0.000698</td>\n",
       "    </tr>\n",
       "    <tr>\n",
       "      <td>PTRATIO</td>\n",
       "      <td>-0.037439</td>\n",
       "    </tr>\n",
       "    <tr>\n",
       "      <td>B</td>\n",
       "      <td>0.000240</td>\n",
       "    </tr>\n",
       "    <tr>\n",
       "      <td>LSTAT</td>\n",
       "      <td>-0.027824</td>\n",
       "    </tr>\n",
       "  </tbody>\n",
       "</table>\n",
       "</div>"
      ],
      "text/plain": [
       "         Non_Reg_Coefficient\n",
       "CRIM               -0.010277\n",
       "ZN                  0.000792\n",
       "INDUS               0.004594\n",
       "CHAS                0.035459\n",
       "NOX                -0.672618\n",
       "RM                  0.130099\n",
       "AGE                 0.000030\n",
       "DIS                -0.042281\n",
       "RAD                 0.014007\n",
       "TAX                -0.000698\n",
       "PTRATIO            -0.037439\n",
       "B                   0.000240\n",
       "LSTAT              -0.027824"
      ]
     },
     "execution_count": 23,
     "metadata": {},
     "output_type": "execute_result"
    }
   ],
   "source": [
    "Non_Reg_coef = pd.DataFrame(linreg_model.coef_,X_train.columns,columns=['Non_Reg_Coefficient'])\n",
    "Non_Reg_coef"
   ]
  },
  {
   "cell_type": "markdown",
   "metadata": {
    "collapsed": true
   },
   "source": [
    "### Using Ridge for performing Feature Reduction"
   ]
  },
  {
   "cell_type": "code",
   "execution_count": 24,
   "metadata": {},
   "outputs": [
    {
     "name": "stdout",
     "output_type": "stream",
     "text": [
      "Fitting 5 folds for each of 6 candidates, totalling 30 fits\n"
     ]
    },
    {
     "name": "stderr",
     "output_type": "stream",
     "text": [
      "[Parallel(n_jobs=-1)]: Using backend LokyBackend with 4 concurrent workers.\n"
     ]
    },
    {
     "name": "stdout",
     "output_type": "stream",
     "text": [
      "Best combination: {'alpha': 0.1}\n"
     ]
    },
    {
     "name": "stderr",
     "output_type": "stream",
     "text": [
      "[Parallel(n_jobs=-1)]: Done  30 out of  30 | elapsed:    7.7s finished\n"
     ]
    }
   ],
   "source": [
    "# Initializing Model\n",
    "\n",
    "tuned_parameters = [{'alpha': [0.001,0.01,0.1,1.,10.,100.]}]\n",
    "\n",
    "RidgeCV = GridSearchCV(linear_model.Ridge(),\n",
    "                   tuned_parameters,\n",
    "                   cv=5,\n",
    "                   n_jobs=-1,\n",
    "                   scoring='neg_mean_squared_error',\n",
    "                   verbose=2)\n",
    "\n",
    "RidgeCV.fit(X_train,Y_train)\n",
    "\n",
    "print('Best combination:', RidgeCV.best_params_);"
   ]
  },
  {
   "cell_type": "code",
   "execution_count": 25,
   "metadata": {},
   "outputs": [
    {
     "data": {
      "text/plain": [
       "0.1524282717285534"
      ]
     },
     "execution_count": 25,
     "metadata": {},
     "output_type": "execute_result"
    }
   ],
   "source": [
    "# Fitting Model\n",
    "\n",
    "#Ridge=RidgeCV.best_params_\n",
    "Ridge=linear_model.Ridge(alpha=0.1)\n",
    "\n",
    "\n",
    "Ridge_model=Ridge.fit(X_train,Y_train)\n",
    "\n",
    "y_pred=Ridge_model.predict(X_test)\n",
    "#metrics.r2_score(Y_train,y_pred)\n",
    "\n",
    "metrics.mean_absolute_error(Y_test,y_pred)"
   ]
  },
  {
   "cell_type": "code",
   "execution_count": 26,
   "metadata": {},
   "outputs": [
    {
     "data": {
      "text/html": [
       "<div>\n",
       "<style scoped>\n",
       "    .dataframe tbody tr th:only-of-type {\n",
       "        vertical-align: middle;\n",
       "    }\n",
       "\n",
       "    .dataframe tbody tr th {\n",
       "        vertical-align: top;\n",
       "    }\n",
       "\n",
       "    .dataframe thead th {\n",
       "        text-align: right;\n",
       "    }\n",
       "</style>\n",
       "<table border=\"1\" class=\"dataframe\">\n",
       "  <thead>\n",
       "    <tr style=\"text-align: right;\">\n",
       "      <th></th>\n",
       "      <th>Ridge_Coefficient</th>\n",
       "    </tr>\n",
       "  </thead>\n",
       "  <tbody>\n",
       "    <tr>\n",
       "      <td>CRIM</td>\n",
       "      <td>-0.010247</td>\n",
       "    </tr>\n",
       "    <tr>\n",
       "      <td>ZN</td>\n",
       "      <td>0.000794</td>\n",
       "    </tr>\n",
       "    <tr>\n",
       "      <td>INDUS</td>\n",
       "      <td>0.004366</td>\n",
       "    </tr>\n",
       "    <tr>\n",
       "      <td>CHAS</td>\n",
       "      <td>0.034306</td>\n",
       "    </tr>\n",
       "    <tr>\n",
       "      <td>NOX</td>\n",
       "      <td>-0.611219</td>\n",
       "    </tr>\n",
       "    <tr>\n",
       "      <td>RM</td>\n",
       "      <td>0.130790</td>\n",
       "    </tr>\n",
       "    <tr>\n",
       "      <td>AGE</td>\n",
       "      <td>-0.000024</td>\n",
       "    </tr>\n",
       "    <tr>\n",
       "      <td>DIS</td>\n",
       "      <td>-0.041346</td>\n",
       "    </tr>\n",
       "    <tr>\n",
       "      <td>RAD</td>\n",
       "      <td>0.013813</td>\n",
       "    </tr>\n",
       "    <tr>\n",
       "      <td>TAX</td>\n",
       "      <td>-0.000702</td>\n",
       "    </tr>\n",
       "    <tr>\n",
       "      <td>PTRATIO</td>\n",
       "      <td>-0.036826</td>\n",
       "    </tr>\n",
       "    <tr>\n",
       "      <td>B</td>\n",
       "      <td>0.000242</td>\n",
       "    </tr>\n",
       "    <tr>\n",
       "      <td>LSTAT</td>\n",
       "      <td>-0.027880</td>\n",
       "    </tr>\n",
       "  </tbody>\n",
       "</table>\n",
       "</div>"
      ],
      "text/plain": [
       "         Ridge_Coefficient\n",
       "CRIM             -0.010247\n",
       "ZN                0.000794\n",
       "INDUS             0.004366\n",
       "CHAS              0.034306\n",
       "NOX              -0.611219\n",
       "RM                0.130790\n",
       "AGE              -0.000024\n",
       "DIS              -0.041346\n",
       "RAD               0.013813\n",
       "TAX              -0.000702\n",
       "PTRATIO          -0.036826\n",
       "B                 0.000242\n",
       "LSTAT            -0.027880"
      ]
     },
     "execution_count": 26,
     "metadata": {},
     "output_type": "execute_result"
    }
   ],
   "source": [
    "# Finding the Coefficients\n",
    "\n",
    "Ridge_coef = pd.DataFrame(Ridge.coef_,X_train.columns,columns=['Ridge_Coefficient'])\n",
    "Ridge_coef"
   ]
  },
  {
   "cell_type": "markdown",
   "metadata": {
    "collapsed": true
   },
   "source": [
    "### Using Lasso for performing Feature Reduction"
   ]
  },
  {
   "cell_type": "code",
   "execution_count": 27,
   "metadata": {},
   "outputs": [
    {
     "name": "stdout",
     "output_type": "stream",
     "text": [
      "Best combination: {'alpha': 0.0001}\n"
     ]
    }
   ],
   "source": [
    "# Initializing Model\n",
    "\n",
    "tuned_parameters = [{'alpha': [0,0.0001,0.001,0.01,0.1,1.,10.]}]\n",
    "\n",
    "LassoCV = GridSearchCV(linear_model.Lasso(),\n",
    "                   tuned_parameters,\n",
    "                   cv=10,\n",
    "                   n_jobs=-1,\n",
    "                   scoring='neg_mean_squared_error')\n",
    "\n",
    "LassoCV.fit(X_train,Y_train)\n",
    "\n",
    "print('Best combination:', LassoCV.best_params_);"
   ]
  },
  {
   "cell_type": "code",
   "execution_count": 28,
   "metadata": {},
   "outputs": [
    {
     "data": {
      "text/plain": [
       "Lasso(alpha=0.0001, copy_X=True, fit_intercept=True, max_iter=1000,\n",
       "      normalize=False, positive=False, precompute=False, random_state=None,\n",
       "      selection='cyclic', tol=0.0001, warm_start=False)"
      ]
     },
     "execution_count": 28,
     "metadata": {},
     "output_type": "execute_result"
    }
   ],
   "source": [
    "# Fitting Model\n",
    "Lasso = linear_model.Lasso(alpha=0.0001)\n",
    "Lasso.fit(X_train,Y_train)"
   ]
  },
  {
   "cell_type": "code",
   "execution_count": 29,
   "metadata": {},
   "outputs": [
    {
     "data": {
      "text/html": [
       "<div>\n",
       "<style scoped>\n",
       "    .dataframe tbody tr th:only-of-type {\n",
       "        vertical-align: middle;\n",
       "    }\n",
       "\n",
       "    .dataframe tbody tr th {\n",
       "        vertical-align: top;\n",
       "    }\n",
       "\n",
       "    .dataframe thead th {\n",
       "        text-align: right;\n",
       "    }\n",
       "</style>\n",
       "<table border=\"1\" class=\"dataframe\">\n",
       "  <thead>\n",
       "    <tr style=\"text-align: right;\">\n",
       "      <th></th>\n",
       "      <th>Lasso_Coefficient</th>\n",
       "    </tr>\n",
       "  </thead>\n",
       "  <tbody>\n",
       "    <tr>\n",
       "      <td>CRIM</td>\n",
       "      <td>-0.010258</td>\n",
       "    </tr>\n",
       "    <tr>\n",
       "      <td>ZN</td>\n",
       "      <td>0.000793</td>\n",
       "    </tr>\n",
       "    <tr>\n",
       "      <td>INDUS</td>\n",
       "      <td>0.004457</td>\n",
       "    </tr>\n",
       "    <tr>\n",
       "      <td>CHAS</td>\n",
       "      <td>0.033063</td>\n",
       "    </tr>\n",
       "    <tr>\n",
       "      <td>NOX</td>\n",
       "      <td>-0.635790</td>\n",
       "    </tr>\n",
       "    <tr>\n",
       "      <td>RM</td>\n",
       "      <td>0.130295</td>\n",
       "    </tr>\n",
       "    <tr>\n",
       "      <td>AGE</td>\n",
       "      <td>0.000002</td>\n",
       "    </tr>\n",
       "    <tr>\n",
       "      <td>DIS</td>\n",
       "      <td>-0.041686</td>\n",
       "    </tr>\n",
       "    <tr>\n",
       "      <td>RAD</td>\n",
       "      <td>0.013898</td>\n",
       "    </tr>\n",
       "    <tr>\n",
       "      <td>TAX</td>\n",
       "      <td>-0.000701</td>\n",
       "    </tr>\n",
       "    <tr>\n",
       "      <td>PTRATIO</td>\n",
       "      <td>-0.037083</td>\n",
       "    </tr>\n",
       "    <tr>\n",
       "      <td>B</td>\n",
       "      <td>0.000241</td>\n",
       "    </tr>\n",
       "    <tr>\n",
       "      <td>LSTAT</td>\n",
       "      <td>-0.027874</td>\n",
       "    </tr>\n",
       "  </tbody>\n",
       "</table>\n",
       "</div>"
      ],
      "text/plain": [
       "         Lasso_Coefficient\n",
       "CRIM             -0.010258\n",
       "ZN                0.000793\n",
       "INDUS             0.004457\n",
       "CHAS              0.033063\n",
       "NOX              -0.635790\n",
       "RM                0.130295\n",
       "AGE               0.000002\n",
       "DIS              -0.041686\n",
       "RAD               0.013898\n",
       "TAX              -0.000701\n",
       "PTRATIO          -0.037083\n",
       "B                 0.000241\n",
       "LSTAT            -0.027874"
      ]
     },
     "execution_count": 29,
     "metadata": {},
     "output_type": "execute_result"
    }
   ],
   "source": [
    "# Finding the Coefficients\n",
    "\n",
    "lasso_coef = pd.DataFrame(Lasso.coef_,X_train.columns,columns=['Lasso_Coefficient'])\n",
    "lasso_coef"
   ]
  },
  {
   "cell_type": "markdown",
   "metadata": {
    "collapsed": true
   },
   "source": [
    "### Using Elastic Net for performing Feature Reduction"
   ]
  },
  {
   "cell_type": "code",
   "execution_count": 30,
   "metadata": {},
   "outputs": [
    {
     "name": "stdout",
     "output_type": "stream",
     "text": [
      "Best combination: {'alpha': 0.0001}\n"
     ]
    },
    {
     "name": "stderr",
     "output_type": "stream",
     "text": [
      "C:\\Users\\RAHUL CHHIKARA\\Anaconda3\\lib\\site-packages\\sklearn\\model_selection\\_search.py:814: DeprecationWarning: The default of the `iid` parameter will change from True to False in version 0.22 and will be removed in 0.24. This will change numeric results when test-set sizes are unequal.\n",
      "  DeprecationWarning)\n"
     ]
    }
   ],
   "source": [
    "# Initializing Model\n",
    "\n",
    "tuned_parameters = [{'alpha': [0.0001,0.001,0.01,0.1,1.,10.,100.]}]\n",
    "\n",
    "ElasticNet_CV = GridSearchCV(linear_model.ElasticNet(),\n",
    "                   tuned_parameters,\n",
    "                   cv=10,\n",
    "                   n_jobs=-1,\n",
    "                   scoring='neg_mean_squared_error')\n",
    "\n",
    "ElasticNet_CV.fit(X_train,Y_train)\n",
    "\n",
    "print('Best combination:', ElasticNet_CV.best_params_);"
   ]
  },
  {
   "cell_type": "code",
   "execution_count": 31,
   "metadata": {},
   "outputs": [
    {
     "data": {
      "text/plain": [
       "0.1681632012582988"
      ]
     },
     "execution_count": 31,
     "metadata": {},
     "output_type": "execute_result"
    }
   ],
   "source": [
    "# Fitting Model\n",
    "EN = linear_model.ElasticNet(alpha=0.1)\n",
    "EN_model=EN.fit(X_train,Y_train)\n",
    "\n",
    "\n",
    "y_pred=EN_model.predict(X_test)\n",
    "#metrics.r2_score(Y_train,y_pred)\n",
    "\n",
    "metrics.mean_absolute_error(Y_test,y_pred)\n",
    "\n",
    "#X_train,X_test,Y_train,Y_test\n",
    "#metrics.mean_squared_error(train.actual_sales , train.pred_sales)"
   ]
  },
  {
   "cell_type": "code",
   "execution_count": 32,
   "metadata": {},
   "outputs": [],
   "source": [
    "linear_model.ElasticNet?"
   ]
  },
  {
   "cell_type": "code",
   "execution_count": 33,
   "metadata": {},
   "outputs": [
    {
     "data": {
      "text/html": [
       "<div>\n",
       "<style scoped>\n",
       "    .dataframe tbody tr th:only-of-type {\n",
       "        vertical-align: middle;\n",
       "    }\n",
       "\n",
       "    .dataframe tbody tr th {\n",
       "        vertical-align: top;\n",
       "    }\n",
       "\n",
       "    .dataframe thead th {\n",
       "        text-align: right;\n",
       "    }\n",
       "</style>\n",
       "<table border=\"1\" class=\"dataframe\">\n",
       "  <thead>\n",
       "    <tr style=\"text-align: right;\">\n",
       "      <th></th>\n",
       "      <th>Elastic_Net_Coefficient</th>\n",
       "    </tr>\n",
       "  </thead>\n",
       "  <tbody>\n",
       "    <tr>\n",
       "      <td>CRIM</td>\n",
       "      <td>-0.007997</td>\n",
       "    </tr>\n",
       "    <tr>\n",
       "      <td>ZN</td>\n",
       "      <td>0.000524</td>\n",
       "    </tr>\n",
       "    <tr>\n",
       "      <td>INDUS</td>\n",
       "      <td>0.000000</td>\n",
       "    </tr>\n",
       "    <tr>\n",
       "      <td>CHAS</td>\n",
       "      <td>0.000000</td>\n",
       "    </tr>\n",
       "    <tr>\n",
       "      <td>NOX</td>\n",
       "      <td>-0.000000</td>\n",
       "    </tr>\n",
       "    <tr>\n",
       "      <td>RM</td>\n",
       "      <td>0.000000</td>\n",
       "    </tr>\n",
       "    <tr>\n",
       "      <td>AGE</td>\n",
       "      <td>0.001162</td>\n",
       "    </tr>\n",
       "    <tr>\n",
       "      <td>DIS</td>\n",
       "      <td>-0.009007</td>\n",
       "    </tr>\n",
       "    <tr>\n",
       "      <td>RAD</td>\n",
       "      <td>0.009255</td>\n",
       "    </tr>\n",
       "    <tr>\n",
       "      <td>TAX</td>\n",
       "      <td>-0.000664</td>\n",
       "    </tr>\n",
       "    <tr>\n",
       "      <td>PTRATIO</td>\n",
       "      <td>-0.026354</td>\n",
       "    </tr>\n",
       "    <tr>\n",
       "      <td>B</td>\n",
       "      <td>0.000107</td>\n",
       "    </tr>\n",
       "    <tr>\n",
       "      <td>LSTAT</td>\n",
       "      <td>-0.037406</td>\n",
       "    </tr>\n",
       "  </tbody>\n",
       "</table>\n",
       "</div>"
      ],
      "text/plain": [
       "         Elastic_Net_Coefficient\n",
       "CRIM                   -0.007997\n",
       "ZN                      0.000524\n",
       "INDUS                   0.000000\n",
       "CHAS                    0.000000\n",
       "NOX                    -0.000000\n",
       "RM                      0.000000\n",
       "AGE                     0.001162\n",
       "DIS                    -0.009007\n",
       "RAD                     0.009255\n",
       "TAX                    -0.000664\n",
       "PTRATIO                -0.026354\n",
       "B                       0.000107\n",
       "LSTAT                  -0.037406"
      ]
     },
     "execution_count": 33,
     "metadata": {},
     "output_type": "execute_result"
    }
   ],
   "source": [
    "# Finding the Coefficients\n",
    "\n",
    "elastic_coef = pd.DataFrame(EN.coef_,X_train.columns,columns=['Elastic_Net_Coefficient'])\n",
    "elastic_coef"
   ]
  },
  {
   "cell_type": "markdown",
   "metadata": {
    "collapsed": true
   },
   "source": [
    "### Comparing Coefficients"
   ]
  },
  {
   "cell_type": "code",
   "execution_count": 34,
   "metadata": {},
   "outputs": [
    {
     "data": {
      "text/html": [
       "<div>\n",
       "<style scoped>\n",
       "    .dataframe tbody tr th:only-of-type {\n",
       "        vertical-align: middle;\n",
       "    }\n",
       "\n",
       "    .dataframe tbody tr th {\n",
       "        vertical-align: top;\n",
       "    }\n",
       "\n",
       "    .dataframe thead th {\n",
       "        text-align: right;\n",
       "    }\n",
       "</style>\n",
       "<table border=\"1\" class=\"dataframe\">\n",
       "  <thead>\n",
       "    <tr style=\"text-align: right;\">\n",
       "      <th></th>\n",
       "      <th>Non_Reg_Coefficient</th>\n",
       "      <th>Ridge_Coefficient</th>\n",
       "      <th>Lasso_Coefficient</th>\n",
       "      <th>Elastic_Net_Coefficient</th>\n",
       "    </tr>\n",
       "  </thead>\n",
       "  <tbody>\n",
       "    <tr>\n",
       "      <td>CRIM</td>\n",
       "      <td>-0.010277</td>\n",
       "      <td>-0.010247</td>\n",
       "      <td>-0.010258</td>\n",
       "      <td>-0.007997</td>\n",
       "    </tr>\n",
       "    <tr>\n",
       "      <td>ZN</td>\n",
       "      <td>0.000792</td>\n",
       "      <td>0.000794</td>\n",
       "      <td>0.000793</td>\n",
       "      <td>0.000524</td>\n",
       "    </tr>\n",
       "    <tr>\n",
       "      <td>INDUS</td>\n",
       "      <td>0.004594</td>\n",
       "      <td>0.004366</td>\n",
       "      <td>0.004457</td>\n",
       "      <td>0.000000</td>\n",
       "    </tr>\n",
       "    <tr>\n",
       "      <td>CHAS</td>\n",
       "      <td>0.035459</td>\n",
       "      <td>0.034306</td>\n",
       "      <td>0.033063</td>\n",
       "      <td>0.000000</td>\n",
       "    </tr>\n",
       "    <tr>\n",
       "      <td>NOX</td>\n",
       "      <td>-0.672618</td>\n",
       "      <td>-0.611219</td>\n",
       "      <td>-0.635790</td>\n",
       "      <td>-0.000000</td>\n",
       "    </tr>\n",
       "    <tr>\n",
       "      <td>RM</td>\n",
       "      <td>0.130099</td>\n",
       "      <td>0.130790</td>\n",
       "      <td>0.130295</td>\n",
       "      <td>0.000000</td>\n",
       "    </tr>\n",
       "    <tr>\n",
       "      <td>AGE</td>\n",
       "      <td>0.000030</td>\n",
       "      <td>-0.000024</td>\n",
       "      <td>0.000002</td>\n",
       "      <td>0.001162</td>\n",
       "    </tr>\n",
       "    <tr>\n",
       "      <td>DIS</td>\n",
       "      <td>-0.042281</td>\n",
       "      <td>-0.041346</td>\n",
       "      <td>-0.041686</td>\n",
       "      <td>-0.009007</td>\n",
       "    </tr>\n",
       "    <tr>\n",
       "      <td>RAD</td>\n",
       "      <td>0.014007</td>\n",
       "      <td>0.013813</td>\n",
       "      <td>0.013898</td>\n",
       "      <td>0.009255</td>\n",
       "    </tr>\n",
       "    <tr>\n",
       "      <td>TAX</td>\n",
       "      <td>-0.000698</td>\n",
       "      <td>-0.000702</td>\n",
       "      <td>-0.000701</td>\n",
       "      <td>-0.000664</td>\n",
       "    </tr>\n",
       "    <tr>\n",
       "      <td>PTRATIO</td>\n",
       "      <td>-0.037439</td>\n",
       "      <td>-0.036826</td>\n",
       "      <td>-0.037083</td>\n",
       "      <td>-0.026354</td>\n",
       "    </tr>\n",
       "    <tr>\n",
       "      <td>B</td>\n",
       "      <td>0.000240</td>\n",
       "      <td>0.000242</td>\n",
       "      <td>0.000241</td>\n",
       "      <td>0.000107</td>\n",
       "    </tr>\n",
       "    <tr>\n",
       "      <td>LSTAT</td>\n",
       "      <td>-0.027824</td>\n",
       "      <td>-0.027880</td>\n",
       "      <td>-0.027874</td>\n",
       "      <td>-0.037406</td>\n",
       "    </tr>\n",
       "  </tbody>\n",
       "</table>\n",
       "</div>"
      ],
      "text/plain": [
       "         Non_Reg_Coefficient  Ridge_Coefficient  Lasso_Coefficient  \\\n",
       "CRIM               -0.010277          -0.010247          -0.010258   \n",
       "ZN                  0.000792           0.000794           0.000793   \n",
       "INDUS               0.004594           0.004366           0.004457   \n",
       "CHAS                0.035459           0.034306           0.033063   \n",
       "NOX                -0.672618          -0.611219          -0.635790   \n",
       "RM                  0.130099           0.130790           0.130295   \n",
       "AGE                 0.000030          -0.000024           0.000002   \n",
       "DIS                -0.042281          -0.041346          -0.041686   \n",
       "RAD                 0.014007           0.013813           0.013898   \n",
       "TAX                -0.000698          -0.000702          -0.000701   \n",
       "PTRATIO            -0.037439          -0.036826          -0.037083   \n",
       "B                   0.000240           0.000242           0.000241   \n",
       "LSTAT              -0.027824          -0.027880          -0.027874   \n",
       "\n",
       "         Elastic_Net_Coefficient  \n",
       "CRIM                   -0.007997  \n",
       "ZN                      0.000524  \n",
       "INDUS                   0.000000  \n",
       "CHAS                    0.000000  \n",
       "NOX                    -0.000000  \n",
       "RM                      0.000000  \n",
       "AGE                     0.001162  \n",
       "DIS                    -0.009007  \n",
       "RAD                     0.009255  \n",
       "TAX                    -0.000664  \n",
       "PTRATIO                -0.026354  \n",
       "B                       0.000107  \n",
       "LSTAT                  -0.037406  "
      ]
     },
     "execution_count": 34,
     "metadata": {},
     "output_type": "execute_result"
    }
   ],
   "source": [
    "pd.concat([Non_Reg_coef,Ridge_coef,lasso_coef,elastic_coef],axis=1)"
   ]
  },
  {
   "cell_type": "markdown",
   "metadata": {},
   "source": [
    "<span style=\"color:brown\"> <i> We can see that if we consider Lasso also known as the only true Feature Reduction method (using Regularization) as for other methods we require some arbitrarily decided threshold to reduce features (where if the feature's coefficient value is less than the predecided threshold value, the feature is dropped), we find 5 variables to be less useful and causing Multicollinearity. </i> </span>\n",
    "\n",
    "These 5 variables are as follows:<br>\n",
    "<span style=\"color:red\">\n",
    "(1) INDUS\n",
    "<br>\n",
    "(2) CHAS\n",
    "<br>\n",
    "(3) NOX\n",
    "<br>\n",
    "(4) RM\n",
    "<br>\n",
    "(5) DIS\n",
    "</span>\n",
    "\n",
    "<span style=\"color:brown\"> <i> This way we are able to reduce the number of features from 13 to 8.</i> </span>\n",
    "\n",
    "\n",
    "Therefore the features that can be selected for creating predictive models are:\n",
    "<span style=\"color:green\"><br>\n",
    "(1) CRIM<br>\n",
    "(2) ZN<br>\n",
    "(3) AGE<br>\n",
    "(4) RAD<br>\n",
    "(5) TAX<br>\n",
    "(6) PTRATIO<br>\n",
    "(7) B<br>\n",
    "(8) LSTAT\n",
    "</span>"
   ]
  },
  {
   "cell_type": "markdown",
   "metadata": {},
   "source": [
    "## Comparing Feature Reduction Technique\n",
    "Comparing feature reduction performed by Regularization (in this case Lasso) with other Feature Reduction Technque such as Recursive Feature Elimination (RFE)"
   ]
  },
  {
   "cell_type": "markdown",
   "metadata": {},
   "source": [
    "### Features Selcted by Lasso v/s RFE"
   ]
  },
  {
   "cell_type": "code",
   "execution_count": 35,
   "metadata": {},
   "outputs": [],
   "source": [
    "# Importing Module for performing RFE\n",
    "\n",
    "from sklearn.feature_selection import RFE"
   ]
  },
  {
   "cell_type": "code",
   "execution_count": 36,
   "metadata": {},
   "outputs": [],
   "source": [
    "#  Initializing RFE model with using 8 as input to have the 8 most important features in the output.\n",
    "\n",
    "rfe = RFE(linreg_model, 8)"
   ]
  },
  {
   "cell_type": "code",
   "execution_count": 37,
   "metadata": {},
   "outputs": [],
   "source": [
    "# Fitting RFE Model\n",
    "\n",
    "rfe = rfe.fit(X_train, Y_train)"
   ]
  },
  {
   "cell_type": "code",
   "execution_count": 38,
   "metadata": {},
   "outputs": [
    {
     "name": "stdout",
     "output_type": "stream",
     "text": [
      "Selected features: ['CRIM', 'CHAS', 'NOX', 'RM', 'DIS', 'RAD', 'PTRATIO', 'LSTAT']\n"
     ]
    }
   ],
   "source": [
    "# Printing the 8 selected Features\n",
    "\n",
    "print('Selected features: %s' % list(X_train.columns[rfe.support_]))"
   ]
  },
  {
   "cell_type": "markdown",
   "metadata": {},
   "source": [
    "### Finding which set of features give better accuracy (using Decision Trees)"
   ]
  },
  {
   "cell_type": "code",
   "execution_count": 39,
   "metadata": {},
   "outputs": [],
   "source": [
    "from sklearn.tree import DecisionTreeRegressor"
   ]
  },
  {
   "cell_type": "markdown",
   "metadata": {},
   "source": [
    "#### Accuracy using Lasso dataset"
   ]
  },
  {
   "cell_type": "code",
   "execution_count": 40,
   "metadata": {},
   "outputs": [],
   "source": [
    "# Creating Train and Test Dataset for Lasso\n",
    "\n",
    "X_L = BosData[['CRIM','ZN','AGE','RAD','TAX','PTRATIO','B','LSTAT']]\n",
    "Y = BosData['ln_Price']\n",
    "X_L_train,X_L_test,Y_L_train,Y_L_test=train_test_split(X,Y,test_size=0.3,random_state=123)"
   ]
  },
  {
   "cell_type": "code",
   "execution_count": 41,
   "metadata": {},
   "outputs": [
    {
     "data": {
      "text/plain": [
       "DecisionTreeRegressor(criterion='mse', max_depth=None, max_features=None,\n",
       "                      max_leaf_nodes=None, min_impurity_decrease=0.0,\n",
       "                      min_impurity_split=None, min_samples_leaf=1,\n",
       "                      min_samples_split=2, min_weight_fraction_leaf=0.0,\n",
       "                      presort=False, random_state=None, splitter='best')"
      ]
     },
     "execution_count": 41,
     "metadata": {},
     "output_type": "execute_result"
    }
   ],
   "source": [
    "# Initalizing and Fitting Decesion Tree Model on Lasso Selected features\n",
    "\n",
    "DTR = DecisionTreeRegressor()\n",
    "DTR.fit(X_L_train,Y_L_train)"
   ]
  },
  {
   "cell_type": "code",
   "execution_count": 42,
   "metadata": {},
   "outputs": [
    {
     "data": {
      "text/plain": [
       "0.655333575460495"
      ]
     },
     "execution_count": 42,
     "metadata": {},
     "output_type": "execute_result"
    }
   ],
   "source": [
    "# Finding Accuracy on Test dataset\n",
    "\n",
    "Pred_DTR_L = DTR.predict(X_L_test)\n",
    "Lasso_Accuracy = metrics.r2_score(Y_L_test,Pred_DTR_L)\n",
    "Lasso_Accuracy"
   ]
  },
  {
   "cell_type": "markdown",
   "metadata": {},
   "source": [
    "#### Accuracy using RFE dataset"
   ]
  },
  {
   "cell_type": "code",
   "execution_count": 43,
   "metadata": {},
   "outputs": [],
   "source": [
    "# Creating Train and Test Dataset for Lasso\n",
    "\n",
    "X_RFE = BosData[['CRIM', 'CHAS', 'NOX', 'RM', 'DIS', 'RAD', 'PTRATIO', 'LSTAT']]\n",
    "Y = BosData['ln_Price']\n",
    "X_RFE_train,X_RFE_test,Y_RFE_train,Y_RFE_test=train_test_split(X,Y,test_size=0.3,random_state=123)"
   ]
  },
  {
   "cell_type": "code",
   "execution_count": 44,
   "metadata": {},
   "outputs": [
    {
     "data": {
      "text/plain": [
       "DecisionTreeRegressor(criterion='mse', max_depth=None, max_features=None,\n",
       "                      max_leaf_nodes=None, min_impurity_decrease=0.0,\n",
       "                      min_impurity_split=None, min_samples_leaf=1,\n",
       "                      min_samples_split=2, min_weight_fraction_leaf=0.0,\n",
       "                      presort=False, random_state=None, splitter='best')"
      ]
     },
     "execution_count": 44,
     "metadata": {},
     "output_type": "execute_result"
    }
   ],
   "source": [
    "# Initalizing and Fitting Decesion Tree Model on Lasso Selected features\n",
    "\n",
    "DTR = DecisionTreeRegressor()\n",
    "DTR.fit(X_RFE_train,Y_RFE_train)"
   ]
  },
  {
   "cell_type": "code",
   "execution_count": 45,
   "metadata": {},
   "outputs": [
    {
     "data": {
      "text/plain": [
       "0.6592898550737505"
      ]
     },
     "execution_count": 45,
     "metadata": {},
     "output_type": "execute_result"
    }
   ],
   "source": [
    "# Finding Accuracy on Test dataset\n",
    "\n",
    "Pred_DTR_RFE = DTR.predict(X_RFE_test)\n",
    "RFE_Accuracy = metrics.r2_score(Y_RFE_test,Pred_DTR_RFE)\n",
    "RFE_Accuracy"
   ]
  },
  {
   "cell_type": "markdown",
   "metadata": {},
   "source": [
    "## Analysis\n",
    "\n",
    "<span style=\"color:brown\"> <i>The features that were selected using Regularization (Lasso) were : </span>\n",
    "<span style=\"color:green\"><br>\n",
    "(1) CRIM<br>\n",
    "(2) ZN<br>\n",
    "(3) AGE<br>\n",
    "(4) RAD<br>\n",
    "(5) TAX<br>\n",
    "(6) PTRATIO<br>\n",
    "(7) B<br>\n",
    "(8) LSTAT\n",
    "</span>\n",
    "\n",
    "<span style=\"color:brown\"> <i> Whereas, the features selected using RFE came out to be : </i> </span>\n",
    "<span style=\"color:blue\"><br>\n",
    "(1) **CRIM** <br>\n",
    "(2) CHAS <br>\n",
    "(3) NOX  <br>\n",
    "(4) RM   <br>\n",
    "(5) DIS <br> \n",
    "(6) **RAD** <br>\n",
    "(7) **PTRATIO** <br>\n",
    "(8) **LSTAT**  <br>\n",
    "**(Common with Lasso)**\n",
    "</span>\n",
    "\n",
    "\n",
    "<span style=\"color:brown\"> <i> The accuracy achieved from using the independent variables gained from Lasso and RFE came out to be almost same (RFE came slightly higher, while Lasso's performance can be increased by tuning the alpha value). Therefore, it is safe to say that Regularization techniques can be used as Feature Reduction method. </i> </span>"
   ]
  },
  {
   "cell_type": "markdown",
   "metadata": {},
   "source": [
    "# Using Regularization for Model Building\n",
    "\n",
    "We can bypass/avoid the feature reduction step when creating a predictive model using Regression. This can be achieved by performing regularization during model building only."
   ]
  },
  {
   "cell_type": "markdown",
   "metadata": {},
   "source": [
    "## Linear Regression (without Regularization)"
   ]
  },
  {
   "cell_type": "code",
   "execution_count": 46,
   "metadata": {},
   "outputs": [
    {
     "name": "stdout",
     "output_type": "stream",
     "text": [
      "Accuracy achieved using Linear Regression (Non-Regularized is: 0.718 while the number of features used are 13 with the selected features being ['CRIM' 'ZN' 'INDUS' 'CHAS' 'NOX' 'RM' 'AGE' 'DIS' 'RAD' 'TAX' 'PTRATIO'\n",
      " 'B' 'LSTAT']\n"
     ]
    }
   ],
   "source": [
    "# Initializing Model\n",
    "linreg_model = linear_model.LinearRegression()\n",
    "\n",
    "# Fitting Model\n",
    "linreg_model.fit(X_train,Y_train)\n",
    "\n",
    "# Predicting Values\n",
    "pred_linmodel = linreg_model.predict(X_test)\n",
    "\n",
    "# Checking Accuracy (on Test dataset)\n",
    "acc_noreg = round(metrics.r2_score(Y_test,pred_linmodel),3)\n",
    "\n",
    "# Finding Coefficients\n",
    "Non_Reg_coef = pd.DataFrame(linreg_model.coef_,X_train.columns,columns=['Non_Reg_Coefficient'])\n",
    "\n",
    "# Reseting Index\n",
    "Non_Reg_coef = Non_Reg_coef.reset_index()\n",
    "\n",
    "# Renaming the columns\n",
    "Non_Reg_coef.columns = ['Features','Coefficient']\n",
    "\n",
    "# Selecting the features and coeff that have been considered for the model\n",
    "Selected_Features = Non_Reg_coef[Non_Reg_coef['Coefficient']!=0]\n",
    "\n",
    "# Extracting the features name that have been selected for model building\n",
    "Selected_Features_names=Selected_Features.Features.unique()\n",
    "\n",
    "# Finding the number of features name that have been selected for model building\n",
    "Number_of_Selected_Features = len(Selected_Features)\n",
    "\n",
    "\n",
    "print('Accuracy achieved using Linear Regression (Non-Regularized is:',acc_noreg,\"while the number of features used are\",Number_of_Selected_Features,\"with the selected features being\",Selected_Features_names)"
   ]
  },
  {
   "cell_type": "markdown",
   "metadata": {},
   "source": [
    "## Linear Regression (Regularization : Ridge)"
   ]
  },
  {
   "cell_type": "code",
   "execution_count": 47,
   "metadata": {},
   "outputs": [
    {
     "name": "stdout",
     "output_type": "stream",
     "text": [
      "Accuracy achieved using Linear Regression (Regularization : Ridge) is: 0.717 while the number of features used are 13 with the selected features being ['CRIM' 'ZN' 'INDUS' 'CHAS' 'NOX' 'RM' 'AGE' 'DIS' 'RAD' 'TAX' 'PTRATIO'\n",
      " 'B' 'LSTAT']\n"
     ]
    }
   ],
   "source": [
    "# Initializing Model\n",
    "Ridge = linear_model.Ridge(alpha=0.1)\n",
    "\n",
    "# Fitting Model\n",
    "Ridge.fit(X_train,Y_train)\n",
    "\n",
    "# Predicting Values\n",
    "pred_linmodel_ridge = Ridge.predict(X_test)\n",
    "\n",
    "# Checking Accuracy (on Test dataset)\n",
    "acc_ridge = round(metrics.r2_score(Y_test,pred_linmodel_ridge),3)\n",
    "\n",
    "# Finding Coefficients\n",
    "Ridge_coef = pd.DataFrame(Ridge.coef_,X_train.columns,columns=['Ridge_Coefficient'])\n",
    "\n",
    "# Reseting Index\n",
    "Ridge_coef = Ridge_coef.reset_index()\n",
    "\n",
    "# Renaming the columns\n",
    "Ridge_coef.columns = ['Features','Coefficient']\n",
    "\n",
    "# Selecting the features and coeff that have been considered for the model\n",
    "Selected_Features_Ridge = Ridge_coef[Ridge_coef['Coefficient']!=0]\n",
    "\n",
    "# Extracting the features name that have been selected for model building\n",
    "Selected_Features_names_Ridge=Selected_Features_Ridge.Features.unique()\n",
    "\n",
    "# Finding the number of features name that have been selected for model building\n",
    "Number_of_Selected_Features_Ridge = len(Selected_Features_Ridge)\n",
    "\n",
    "\n",
    "print('Accuracy achieved using Linear Regression (Regularization : Ridge) is:',acc_ridge,\"while the number of features used are\",Number_of_Selected_Features_Ridge,\"with the selected features being\",Selected_Features_names_Ridge)"
   ]
  },
  {
   "cell_type": "markdown",
   "metadata": {},
   "source": [
    "## Linear Regression (Regularization : Lasso)"
   ]
  },
  {
   "cell_type": "code",
   "execution_count": 48,
   "metadata": {},
   "outputs": [
    {
     "name": "stdout",
     "output_type": "stream",
     "text": [
      "Accuracy achieved using Linear Regression (Regularization : Lasso) is: 0.685 while the number of features used are 8 with the selected features being ['CRIM' 'ZN' 'AGE' 'RAD' 'TAX' 'PTRATIO' 'B' 'LSTAT']\n"
     ]
    }
   ],
   "source": [
    "# Initializing Model\n",
    "Lasso = linear_model.Lasso(alpha=0.07)\n",
    "\n",
    "# Fitting Model\n",
    "Lasso.fit(X_train,Y_train)\n",
    "\n",
    "# Predicting Values\n",
    "pred_linmodel_lasso = Lasso.predict(X_test)\n",
    "\n",
    "# Checking Accuracy (on Test dataset)\n",
    "acc_lasso = round(metrics.r2_score(Y_test,pred_linmodel_lasso),3)\n",
    "\n",
    "# Finding Coefficients\n",
    "Lasso_coef = pd.DataFrame(Lasso.coef_,X_train.columns,columns=['Lasso_Coefficient'])\n",
    "\n",
    "# Reseting Index\n",
    "Lasso_coef = Lasso_coef.reset_index()\n",
    "\n",
    "# Renaming the columns\n",
    "Lasso_coef.columns = ['Features','Coefficient']\n",
    "\n",
    "# Selecting the features and coeff that have been considered for the model\n",
    "Selected_Features_Lasso = Lasso_coef[Lasso_coef['Coefficient']!=0]\n",
    "\n",
    "# Extracting the features name that have been selected for model building\n",
    "Selected_Features_names_Lasso=Selected_Features_Lasso.Features.unique()\n",
    "\n",
    "# Finding the number of features name that have been selected for model building\n",
    "Number_of_Selected_Features_Lasso = len(Selected_Features_Lasso)\n",
    "\n",
    "\n",
    "print('Accuracy achieved using Linear Regression (Regularization : Lasso) is:',acc_lasso,\"while the number of features used are\",Number_of_Selected_Features_Lasso,\"with the selected features being\",Selected_Features_names_Lasso)"
   ]
  },
  {
   "cell_type": "markdown",
   "metadata": {},
   "source": [
    "## Linear Regression (Regularization : Elastic Net)"
   ]
  },
  {
   "cell_type": "code",
   "execution_count": 49,
   "metadata": {},
   "outputs": [
    {
     "name": "stdout",
     "output_type": "stream",
     "text": [
      "Accuracy achieved using Linear Regression (Regularization : Elastic) is: 0.697 while the number of features used are 9 with the selected features being ['CRIM' 'ZN' 'AGE' 'DIS' 'RAD' 'TAX' 'PTRATIO' 'B' 'LSTAT']\n"
     ]
    }
   ],
   "source": [
    "# Initializing Model\n",
    "Elastic = linear_model.ElasticNet(alpha=0.1)\n",
    "\n",
    "# Fitting Model\n",
    "Elastic.fit(X_train,Y_train)\n",
    "\n",
    "# Predicting Values\n",
    "pred_linmodel_Elastic = Elastic.predict(X_test)\n",
    "\n",
    "# Checking Accuracy (on Test dataset)\n",
    "acc_Elastic = round(metrics.r2_score(Y_test,pred_linmodel_Elastic),3)\n",
    "\n",
    "# Finding Coefficients\n",
    "Elastic_coef = pd.DataFrame(Elastic.coef_,X_train.columns,columns=['Elastic_Coefficient'])\n",
    "\n",
    "# Reseting Index\n",
    "Elastic_coef = Elastic_coef.reset_index()\n",
    "\n",
    "# Renaming the columns\n",
    "Elastic_coef.columns = ['Features','Coefficient']\n",
    "\n",
    "# Selecting the features and coeff that have been considered for the model\n",
    "Selected_Features_Elastic = Elastic_coef[Elastic_coef['Coefficient']!=0]\n",
    "\n",
    "# Extracting the features name that have been selected for model building\n",
    "Selected_Features_names_Elastic=Selected_Features_Elastic.Features.unique()\n",
    "\n",
    "# Finding the number of features name that have been selected for model building\n",
    "Number_of_Selected_Features_Elastic = len(Selected_Features_Elastic)\n",
    "\n",
    "\n",
    "print('Accuracy achieved using Linear Regression (Regularization : Elastic) is:',acc_Elastic,\"while the number of features used are\",Number_of_Selected_Features_Elastic,\"with the selected features being\",Selected_Features_names_Elastic)"
   ]
  },
  {
   "cell_type": "markdown",
   "metadata": {},
   "source": [
    "## Analysis\n",
    "\n",
    "- <span style=\"color:brown\"> <i> 71.9% Accuracy was achieved when all of the data was used for building a Linear Regression model that doesn't do any regularization. However, this can cause problems when dealing with Unseen data as the model may be overfitting due to multicollinearity. </i> </span>\n",
    "\n",
    "\n",
    "- <span style=\"color:brown\"> <i> 71.8% Accuracy when all the independent features were used for building a Linear Regression model that does Regularization using Ridge (L2 norm). Again, the problem of multicolliniearity persists as it uses all of the 13 variables to come up with predition and achieve 71% of accuracy. </i> </span>\n",
    "\n",
    "\n",
    "- <span style=\"color:brown\"> <i> 68.6% Accuracy was achieved when a Linear Regression model was built using all of the data. Here Lasso was used in order to penalize the coefficients which resulted in 5 variable's coefficients being dragged to 0 causing feature reduction. Only 8 features were used out of 13. Thus, at the cost of almost 3% of accuracy, we were able to get rid of almost 40% of the variables.</i> </span>\n",
    "\n",
    "\n",
    "- <span style=\"color:brown\"> <i> Almost 70% Accuracy was achieved when Elastic Net was used as the regularization method. Only 9 features were used to attain this level of accuracy while the remaining feature's coefficients were lowered down to 0. Here, at the cost of merely 2% of accuracy, we were able to get rid of almost 30% of all the independent the variables.</i> </span>\n",
    "\n",
    "\n",
    "- <span style=\"color:brown\"> <i> The performance of Lasso and Elastic Net can be increased by fine-tuning the alpha value (preferably by using Grid Search) whereas, for Ridge, appropriate threshold value can be chosen in order to perform feature reduction, however, in order to completely avoid feature reduction, Lasso and Elastic Net should be preferred as they make the coefficients value 0 thus directly performing feature reducing during model building. </i> </span>"
   ]
  }
 ],
 "metadata": {
  "kernelspec": {
   "display_name": "Python 3",
   "language": "python",
   "name": "python3"
  },
  "language_info": {
   "codemirror_mode": {
    "name": "ipython",
    "version": 3
   },
   "file_extension": ".py",
   "mimetype": "text/x-python",
   "name": "python",
   "nbconvert_exporter": "python",
   "pygments_lexer": "ipython3",
   "version": "3.7.4"
  }
 },
 "nbformat": 4,
 "nbformat_minor": 2
}
